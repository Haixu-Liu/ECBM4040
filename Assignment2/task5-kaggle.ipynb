{
 "cells": [
  {
   "cell_type": "markdown",
   "metadata": {},
   "source": [
    "## Columbia University\n",
    "### ECBM E4040 Neural Networks and Deep Learning. Fall 2020."
   ]
  },
  {
   "cell_type": "markdown",
   "metadata": {},
   "source": [
    "# ECBM E4040 - Assignment 2- Task 5: Kaggle Open-ended Competition\n",
    "\n",
    "Kaggle is a platform for predictive modelling and analytics competitions in which companies and researchers post data and statisticians and data miners compete to produce the best models for predicting and describing the data.\n",
    "\n",
    "If you don't have a Kaggle account, feel free to join at [www.kaggle.com](https://www.kaggle.com). To let the CAs do the grading more conveniently, please __use Lionmail to join Kaggle__ and __use UNI as your username__.\n",
    "\n",
    "The website for this competition is: https://www.kaggle.com/c/ecbm-e4040fall2020-assignment-2-task-5.\n",
    "\n",
    "You can find detailed description about this in-class competition on the website above. Please read carefully and follow the instructions.\n",
    "\n",
    "<span style=\"color:red\">__TODO__:</span>\n",
    "1. Train a custom model for the bottle dataset classification problem. You are free to use any methods taught in the class or found by yourself on the Internet (ALWAYS provide reference to the source).\n",
    "General training methods include:\n",
    "    * Dropout\n",
    "    * Batch normalization\n",
    "    * Early stopping\n",
    "    * l1-norm & l2-norm penalization\n",
    "2. You'll be given the test set to generate your predictions (70% public + 30% private, but you don't know which ones are public/private). Achieve 70% accuracy on the public test set. The accuracy will be shown on the public leaderboard once you submit your prediction .csv file. The private leaderboard would be released after the competition. The final ranking would based on that result, not the public one.\n",
    "3. \n",
    "\n",
    "    * Report your results on the Kaggle, for comparison with other students' optimal results (you can do this several times). \n",
    "    * Save your best model, using Github Classroom, at the same time when you submit the homework files into Courseworks. See instructions below. \n",
    "\n",
    "__Hint__: You can start from what you implemented in task 4. Another classic classification model named 'VGG16' can also be easily implemented. Students are allowed to use pretrained networks, and utilize transfer learning. "
   ]
  },
  {
   "cell_type": "markdown",
   "metadata": {},
   "source": [
    "## HW Submission Details:\n",
    "There are three components to reporting the results of this task: \n",
    "\n",
    "**(A) Submission (up to 20 submissions each day) of the .csv prediction file throught the Kaggle platform;**. You should start doing this __VERY early__, so that students can compare their work as they are making progress with model optimization.\n",
    "\n",
    "**(B) Editing and submitting the content of this Jupyter notebook, through Courseworks; **\n",
    "(i) The code for your CNN model and for the training function. The code should be stored in __./ecbm4040/neuralnets/kaggle.py__;\n",
    "(ii) Print out your training process and accuracy __within this notebook__;\n",
    "\n",
    "**(C) Submitting your best CNN model through Github Classroom repo.**\n",
    "\n",
    "**Description of (C):** \n",
    "For this task, we will continue to use Github classroom to save your model for submission. \n",
    "\n",
    "<span style=\"color:red\">__Submission content:__ :</span>\n",
    "(i) In your Assignment 2 submission folder, create a subfolder called __KaggleModel__. Upload your best model with all the data output (for example, __MODEL.data-00000-of-00001, MODEL.meta, MODEL.index__) into the folder. \n",
    "(ii) Remember to delete any intermediate results, **we only want your best model. Do not upload any data files**. The instructors will rerun the uploaded best model and verify against the score which you reported on the Kaggle.\n",
    "\n"
   ]
  },
  {
   "cell_type": "markdown",
   "metadata": {},
   "source": [
    "## Load Data"
   ]
  },
  {
   "cell_type": "code",
   "execution_count": 1,
   "metadata": {},
   "outputs": [],
   "source": [
    "# YOUR CODE HERE\n",
    "%matplotlib inline\n",
    "%load_ext autoreload\n",
    "%autoreload 2\n",
    "\n",
    "# Import modules\n",
    "import numpy as np\n",
    "import matplotlib.pyplot as plt\n",
    "import tensorflow as tf"
   ]
  },
  {
   "cell_type": "code",
   "execution_count": 3,
   "metadata": {},
   "outputs": [
    {
     "name": "stdout",
     "output_type": "stream",
     "text": [
      "Found 12000 images belonging to 5 classes.\n",
      "Found 3000 images belonging to 5 classes.\n",
      "Found 3500 images belonging to 1 classes.\n",
      "Batch shape=(32, 128, 128, 3), min=0.000, max=1.000\n"
     ]
    }
   ],
   "source": [
    "from tensorflow.keras.preprocessing.image import ImageDataGenerator,array_to_img,img_to_array,load_img\n",
    "\n",
    "# create generator and data augmentation\n",
    "datagen = ImageDataGenerator(validation_split=0.2, \n",
    "                             horizontal_flip=True,\n",
    "                             width_shift_range=[-20,20],\n",
    "                             rescale=1./255,\n",
    "                             rotation_range=40)\n",
    "\n",
    "# datagen = ImageDataGenerator(validation_split=0.2)\n",
    "\n",
    "# prepare an iterators for each dataset\n",
    "directory_train = 'data/kaggle-fall2020/kaggle_train_128/train_128/'\n",
    "directory_test = 'data/kaggle-fall2020/kaggle_test_128/'\n",
    "\n",
    "# train set\n",
    "train_bottle = datagen.flow_from_directory(\n",
    "    directory=directory_train, \n",
    "    target_size=(128, 128),\n",
    "    color_mode=\"rgb\",\n",
    "    batch_size=32,\n",
    "    class_mode=\"categorical\",\n",
    "    shuffle=True,\n",
    "    seed=42,\n",
    "    subset='training')\n",
    "\n",
    "# validation set\n",
    "validation_bottle = datagen.flow_from_directory(\n",
    "    directory=directory_train,  # same directory as training data\n",
    "    target_size=(128, 128),\n",
    "    batch_size=32,\n",
    "    class_mode='categorical',\n",
    "    subset='validation') # set as validation data\n",
    "\n",
    "# test set\n",
    "test_bottle = datagen.flow_from_directory(\n",
    "    directory=directory_test,\n",
    "    target_size=(128, 128),\n",
    "    color_mode=\"rgb\",\n",
    "    batch_size=1,\n",
    "    class_mode=None,\n",
    "    shuffle=False,\n",
    "    seed=42)\n",
    "\n",
    "# confirm the iterator works\n",
    "batchX, batchy = train_bottle.next()\n",
    "print('Batch shape=%s, min=%.3f, max=%.3f' % (batchX.shape, batchX.min(), batchX.max()))"
   ]
  },
  {
   "cell_type": "markdown",
   "metadata": {},
   "source": [
    "## Build and Train Your Model Here"
   ]
  },
  {
   "cell_type": "code",
   "execution_count": 4,
   "metadata": {},
   "outputs": [],
   "source": [
    "# YOUR CODE HERE\n",
    "import pandas as pd\n",
    "import os\n",
    "from tensorflow.keras.layers import Dense,GlobalAveragePooling2D\n",
    "from tensorflow.keras.preprocessing import image\n",
    "from tensorflow.keras.applications.mobilenet import preprocess_input\n",
    "from tensorflow.keras.preprocessing.image import ImageDataGenerator\n",
    "from tensorflow.keras.models import Model\n",
    "from tensorflow.keras.optimizers import Adam\n",
    "from utils.cifar_utils import load_data"
   ]
  },
  {
   "cell_type": "code",
   "execution_count": 5,
   "metadata": {},
   "outputs": [
    {
     "name": "stdout",
     "output_type": "stream",
     "text": [
      "375 93\n"
     ]
    }
   ],
   "source": [
    "STEP_SIZE_TRAIN = train_bottle.n // train_bottle.batch_size\n",
    "STEP_SIZE_VALID = validation_bottle.n // validation_bottle.batch_size\n",
    "print(STEP_SIZE_TRAIN, STEP_SIZE_VALID)"
   ]
  },
  {
   "cell_type": "code",
   "execution_count": 6,
   "metadata": {},
   "outputs": [],
   "source": [
    "# Transfer learning: we will use VGG model\n",
    "from tensorflow.keras.applications import VGG19, VGG16"
   ]
  },
  {
   "cell_type": "code",
   "execution_count": 7,
   "metadata": {},
   "outputs": [],
   "source": [
    "# import the VGG model\n",
    "base_model=VGG19(weights='imagenet',include_top=False) \n",
    "\n",
    "from tensorflow.keras.layers import Dropout, BatchNormalization\n",
    "# from Part 4 of Task 4\n",
    "x=base_model.output\n",
    "x=GlobalAveragePooling2D()(x)\n",
    "x=Dense(1024,activation='relu', name='Dense1')(x) #we add dense layers so that the model can learn more complex functions and classify for better results.\n",
    "x=Dropout(0.5)(x)\n",
    "x=Dense(1024,activation='relu', name='Dense2')(x) #dense layer 2\n",
    "x=Dropout(0.5)(x)\n",
    "x=Dense(512,activation='relu', name='Dense3')(x) #dense layer 3\n",
    "preds=Dense(5,activation='softmax')(x) #final layer with softmax activation"
   ]
  },
  {
   "cell_type": "code",
   "execution_count": 8,
   "metadata": {},
   "outputs": [],
   "source": [
    "model=Model(inputs=base_model.input,outputs=preds,name='Kaggle_model')"
   ]
  },
  {
   "cell_type": "code",
   "execution_count": 9,
   "metadata": {},
   "outputs": [],
   "source": [
    "from tensorflow.keras.models import Sequential\n",
    "# loop through layers, add Dropout after layers 'fc1' and 'fc2'\n",
    "updated_model = Sequential()\n",
    "i = 1\n",
    "for layer in model.layers:\n",
    "    updated_model.add(layer)\n",
    "    if layer.name in ['block1_conv2', 'block2_conv2', 'block3_conv4', 'block4_conv4', 'block5_conv4']:\n",
    "        updated_model.add(BatchNormalization(name='bn_{}'.format(i)))\n",
    "        i += 1\n",
    "\n",
    "model = updated_model"
   ]
  },
  {
   "cell_type": "code",
   "execution_count": 10,
   "metadata": {},
   "outputs": [],
   "source": [
    "for layer in model.layers[:11]:\n",
    "    layer.trainable=False\n",
    "for layer in model.layers[11:]:\n",
    "    layer.trainable=True"
   ]
  },
  {
   "cell_type": "code",
   "execution_count": 11,
   "metadata": {},
   "outputs": [
    {
     "name": "stdout",
     "output_type": "stream",
     "text": [
      "Model: \"sequential\"\n",
      "_________________________________________________________________\n",
      "Layer (type)                 Output Shape              Param #   \n",
      "=================================================================\n",
      "block1_conv1 (Conv2D)        (None, None, None, 64)    1792      \n",
      "_________________________________________________________________\n",
      "block1_conv2 (Conv2D)        (None, None, None, 64)    36928     \n",
      "_________________________________________________________________\n",
      "bn_1 (BatchNormalization)    (None, None, None, 64)    256       \n",
      "_________________________________________________________________\n",
      "block1_pool (MaxPooling2D)   (None, None, None, 64)    0         \n",
      "_________________________________________________________________\n",
      "block2_conv1 (Conv2D)        (None, None, None, 128)   73856     \n",
      "_________________________________________________________________\n",
      "block2_conv2 (Conv2D)        (None, None, None, 128)   147584    \n",
      "_________________________________________________________________\n",
      "bn_2 (BatchNormalization)    (None, None, None, 128)   512       \n",
      "_________________________________________________________________\n",
      "block2_pool (MaxPooling2D)   (None, None, None, 128)   0         \n",
      "_________________________________________________________________\n",
      "block3_conv1 (Conv2D)        (None, None, None, 256)   295168    \n",
      "_________________________________________________________________\n",
      "block3_conv2 (Conv2D)        (None, None, None, 256)   590080    \n",
      "_________________________________________________________________\n",
      "block3_conv3 (Conv2D)        (None, None, None, 256)   590080    \n",
      "_________________________________________________________________\n",
      "block3_conv4 (Conv2D)        (None, None, None, 256)   590080    \n",
      "_________________________________________________________________\n",
      "bn_3 (BatchNormalization)    (None, None, None, 256)   1024      \n",
      "_________________________________________________________________\n",
      "block3_pool (MaxPooling2D)   (None, None, None, 256)   0         \n",
      "_________________________________________________________________\n",
      "block4_conv1 (Conv2D)        (None, None, None, 512)   1180160   \n",
      "_________________________________________________________________\n",
      "block4_conv2 (Conv2D)        (None, None, None, 512)   2359808   \n",
      "_________________________________________________________________\n",
      "block4_conv3 (Conv2D)        (None, None, None, 512)   2359808   \n",
      "_________________________________________________________________\n",
      "block4_conv4 (Conv2D)        (None, None, None, 512)   2359808   \n",
      "_________________________________________________________________\n",
      "bn_4 (BatchNormalization)    (None, None, None, 512)   2048      \n",
      "_________________________________________________________________\n",
      "block4_pool (MaxPooling2D)   (None, None, None, 512)   0         \n",
      "_________________________________________________________________\n",
      "block5_conv1 (Conv2D)        (None, None, None, 512)   2359808   \n",
      "_________________________________________________________________\n",
      "block5_conv2 (Conv2D)        (None, None, None, 512)   2359808   \n",
      "_________________________________________________________________\n",
      "block5_conv3 (Conv2D)        (None, None, None, 512)   2359808   \n",
      "_________________________________________________________________\n",
      "block5_conv4 (Conv2D)        (None, None, None, 512)   2359808   \n",
      "_________________________________________________________________\n",
      "bn_5 (BatchNormalization)    (None, None, None, 512)   2048      \n",
      "_________________________________________________________________\n",
      "block5_pool (MaxPooling2D)   (None, None, None, 512)   0         \n",
      "_________________________________________________________________\n",
      "global_average_pooling2d (Gl (None, 512)               0         \n",
      "_________________________________________________________________\n",
      "Dense1 (Dense)               (None, 1024)              525312    \n",
      "_________________________________________________________________\n",
      "dropout (Dropout)            (None, 1024)              0         \n",
      "_________________________________________________________________\n",
      "Dense2 (Dense)               (None, 1024)              1049600   \n",
      "_________________________________________________________________\n",
      "dropout_1 (Dropout)          (None, 1024)              0         \n",
      "_________________________________________________________________\n",
      "Dense3 (Dense)               (None, 512)               524800    \n",
      "_________________________________________________________________\n",
      "dense (Dense)                (None, 5)                 2565      \n",
      "=================================================================\n",
      "Total params: 22,132,549\n",
      "Trainable params: 20,393,733\n",
      "Non-trainable params: 1,738,816\n",
      "_________________________________________________________________\n"
     ]
    }
   ],
   "source": [
    "model.compile(optimizer='Adam',loss='categorical_crossentropy',metrics=['accuracy'])\n",
    "# Adam optimizer\n",
    "# loss function will be categorical cross entropy\n",
    "# evaluation metric will be accuracy\n",
    "model.summary()"
   ]
  },
  {
   "cell_type": "code",
   "execution_count": 12,
   "metadata": {},
   "outputs": [
    {
     "name": "stdout",
     "output_type": "stream",
     "text": [
      "WARNING:tensorflow:From <ipython-input-12-0afc6931b85f>:8: Model.fit_generator (from tensorflow.python.keras.engine.training) is deprecated and will be removed in a future version.\n",
      "Instructions for updating:\n",
      "Please use Model.fit, which supports generators.\n",
      "Epoch 1/25\n",
      "375/375 [==============================] - 106s 282ms/step - loss: 1.3755 - accuracy: 0.4161 - val_loss: 1.1727 - val_accuracy: 0.5420\n",
      "Epoch 2/25\n",
      "375/375 [==============================] - 105s 279ms/step - loss: 0.7572 - accuracy: 0.7541 - val_loss: 0.6981 - val_accuracy: 0.7681\n",
      "Epoch 3/25\n",
      "375/375 [==============================] - 104s 278ms/step - loss: 0.5435 - accuracy: 0.8257 - val_loss: 0.4278 - val_accuracy: 0.8522\n",
      "Epoch 4/25\n",
      "375/375 [==============================] - 104s 278ms/step - loss: 0.4696 - accuracy: 0.8522 - val_loss: 0.3778 - val_accuracy: 0.8915\n",
      "Epoch 5/25\n",
      "375/375 [==============================] - 104s 278ms/step - loss: 0.3994 - accuracy: 0.8751 - val_loss: 0.4168 - val_accuracy: 0.8713\n",
      "Epoch 6/25\n",
      "375/375 [==============================] - 104s 278ms/step - loss: 0.3531 - accuracy: 0.8908 - val_loss: 0.2716 - val_accuracy: 0.9177\n",
      "Epoch 7/25\n",
      "375/375 [==============================] - 104s 278ms/step - loss: 0.3195 - accuracy: 0.9030 - val_loss: 0.3256 - val_accuracy: 0.8955\n",
      "Epoch 8/25\n",
      "375/375 [==============================] - 104s 277ms/step - loss: 0.2918 - accuracy: 0.9082 - val_loss: 0.3533 - val_accuracy: 0.8898\n",
      "Epoch 9/25\n",
      "375/375 [==============================] - 104s 278ms/step - loss: 0.2745 - accuracy: 0.9144 - val_loss: 0.2571 - val_accuracy: 0.9278\n",
      "Epoch 10/25\n",
      "375/375 [==============================] - 105s 279ms/step - loss: 0.2515 - accuracy: 0.9222 - val_loss: 0.2847 - val_accuracy: 0.9247\n",
      "Epoch 11/25\n",
      "375/375 [==============================] - 104s 278ms/step - loss: 0.2311 - accuracy: 0.9285 - val_loss: 0.2400 - val_accuracy: 0.9217\n",
      "Epoch 12/25\n",
      "375/375 [==============================] - 105s 279ms/step - loss: 0.2217 - accuracy: 0.9345 - val_loss: 0.2491 - val_accuracy: 0.9257\n",
      "Epoch 13/25\n",
      "375/375 [==============================] - 105s 279ms/step - loss: 0.2022 - accuracy: 0.9406 - val_loss: 0.3309 - val_accuracy: 0.9220\n",
      "Epoch 14/25\n",
      "375/375 [==============================] - 105s 281ms/step - loss: 0.2053 - accuracy: 0.9373 - val_loss: 0.2324 - val_accuracy: 0.9278\n",
      "Epoch 15/25\n",
      "375/375 [==============================] - 105s 280ms/step - loss: 0.1961 - accuracy: 0.9398 - val_loss: 0.2814 - val_accuracy: 0.9264\n",
      "Epoch 16/25\n",
      "375/375 [==============================] - 105s 279ms/step - loss: 0.1841 - accuracy: 0.9461 - val_loss: 0.2694 - val_accuracy: 0.9254\n",
      "Epoch 17/25\n",
      "375/375 [==============================] - 105s 279ms/step - loss: 0.1821 - accuracy: 0.9475 - val_loss: 0.2476 - val_accuracy: 0.9325\n",
      "Epoch 18/25\n",
      "375/375 [==============================] - 105s 279ms/step - loss: 0.1725 - accuracy: 0.9496 - val_loss: 0.2039 - val_accuracy: 0.9345\n",
      "Epoch 19/25\n",
      "375/375 [==============================] - 104s 278ms/step - loss: 0.1634 - accuracy: 0.9514 - val_loss: 0.2183 - val_accuracy: 0.9388\n",
      "Epoch 20/25\n",
      "375/375 [==============================] - 104s 277ms/step - loss: 0.1527 - accuracy: 0.9549 - val_loss: 0.2492 - val_accuracy: 0.9395\n",
      "Epoch 21/25\n",
      "375/375 [==============================] - 104s 278ms/step - loss: 0.1467 - accuracy: 0.9555 - val_loss: 0.2736 - val_accuracy: 0.9301\n",
      "Epoch 22/25\n",
      "375/375 [==============================] - 104s 278ms/step - loss: 0.1501 - accuracy: 0.9550 - val_loss: 0.1953 - val_accuracy: 0.9472\n",
      "Epoch 23/25\n",
      "375/375 [==============================] - 104s 277ms/step - loss: 0.1411 - accuracy: 0.9593 - val_loss: 0.2849 - val_accuracy: 0.9298\n",
      "Epoch 24/25\n",
      "375/375 [==============================] - 104s 277ms/step - loss: 0.1294 - accuracy: 0.9632 - val_loss: 0.2428 - val_accuracy: 0.9405\n",
      "Epoch 25/25\n",
      "375/375 [==============================] - 104s 278ms/step - loss: 0.1485 - accuracy: 0.9579 - val_loss: 0.1987 - val_accuracy: 0.9442\n"
     ]
    }
   ],
   "source": [
    "epc = 25 #number of epoches\n",
    "\n",
    "# train the model\n",
    "history = model.fit_generator(generator=train_bottle,\n",
    "                    steps_per_epoch=STEP_SIZE_TRAIN,\n",
    "                    validation_data=validation_bottle,\n",
    "                    validation_steps=STEP_SIZE_VALID,\n",
    "                    epochs=25\n",
    ")"
   ]
  },
  {
   "cell_type": "code",
   "execution_count": 13,
   "metadata": {},
   "outputs": [
    {
     "data": {
      "image/png": "[encoded data removed]",
      "text/plain": [
       "<Figure size 576x576 with 2 Axes>"
      ]
     },
     "metadata": {
      "needs_background": "light"
     },
     "output_type": "display_data"
    }
   ],
   "source": [
    "acc = history.history['accuracy']\n",
    "val_acc = history.history['val_accuracy']\n",
    "\n",
    "loss = history.history['loss']\n",
    "val_loss = history.history['val_loss']\n",
    "\n",
    "plt.figure(figsize=(8, 8))\n",
    "plt.subplot(2, 1, 1)\n",
    "plt.plot(acc, label='Training Accuracy')\n",
    "plt.plot(val_acc, label='Validation Accuracy')\n",
    "plt.legend(loc='lower right')\n",
    "plt.ylabel('Accuracy')\n",
    "plt.ylim([min(plt.ylim()),1])\n",
    "plt.title('Training and Validation Accuracy')\n",
    "\n",
    "plt.subplot(2, 1, 2)\n",
    "plt.plot(loss, label='Training Loss')\n",
    "plt.plot(val_loss, label='Validation Loss')\n",
    "plt.legend(loc='upper right')\n",
    "plt.ylabel('Cross Entropy')\n",
    "\n",
    "plt.title('Training and Validation Loss')\n",
    "plt.xlabel('epoch')\n",
    "plt.show()"
   ]
  },
  {
   "cell_type": "code",
   "execution_count": 14,
   "metadata": {},
   "outputs": [
    {
     "name": "stdout",
     "output_type": "stream",
     "text": [
      "WARNING:tensorflow:From <ipython-input-14-18d853633345>:3: Model.evaluate_generator (from tensorflow.python.keras.engine.training) is deprecated and will be removed in a future version.\n",
      "Instructions for updating:\n",
      "Please use Model.evaluate, which supports generators.\n"
     ]
    },
    {
     "data": {
      "text/plain": [
       "[0.20820246636867523, 0.9378360509872437]"
      ]
     },
     "execution_count": 14,
     "metadata": {},
     "output_type": "execute_result"
    }
   ],
   "source": [
    "# evaludate the model\n",
    "model.evaluate_generator(generator=validation_bottle,\n",
    "steps=STEP_SIZE_VALID)"
   ]
  },
  {
   "cell_type": "code",
   "execution_count": null,
   "metadata": {},
   "outputs": [
    {
     "name": "stdout",
     "output_type": "stream",
     "text": [
      "WARNING:tensorflow:From <ipython-input-15-3e2434f0306e>:6: Model.predict_generator (from tensorflow.python.keras.engine.training) is deprecated and will be removed in a future version.\n",
      "Instructions for updating:\n",
      "Please use Model.predict, which supports generators.\n",
      " 267/3500 [=>............................] - ETA: 49s"
     ]
    }
   ],
   "source": [
    "# predict the output\n",
    "STEP_SIZE_TEST=test_bottle.n//test_bottle.batch_size\n",
    "test_bottle.reset()\n",
    "pred=model.predict_generator(test_bottle,\n",
    "steps=STEP_SIZE_TEST,\n",
    "verbose=1)"
   ]
  },
  {
   "cell_type": "code",
   "execution_count": null,
   "metadata": {},
   "outputs": [],
   "source": [
    "predicted_class_indices=np.argmax(pred,axis=1)"
   ]
  },
  {
   "cell_type": "code",
   "execution_count": null,
   "metadata": {},
   "outputs": [],
   "source": [
    "labels = (train_bottle.class_indices)\n",
    "labels = dict((v,k) for k,v in labels.items())\n",
    "predictions = [labels[k] for k in predicted_class_indices]"
   ]
  },
  {
   "cell_type": "markdown",
   "metadata": {},
   "source": [
    "## Save your best model"
   ]
  },
  {
   "cell_type": "code",
   "execution_count": null,
   "metadata": {},
   "outputs": [],
   "source": [
    "# YOUR CODE HERE\n",
    "model.save('KaggleModel/KaggleModel.h5')"
   ]
  },
  {
   "cell_type": "markdown",
   "metadata": {},
   "source": [
    "## Generate .csv file for Kaggle"
   ]
  },
  {
   "cell_type": "code",
   "execution_count": null,
   "metadata": {},
   "outputs": [],
   "source": [
    "# The following code snippet can be used to generate your prediction .csv file.\n",
    "\n",
    "# import csv\n",
    "# with open('predicted.csv','w') as csvfile:\n",
    "#     fieldnames = ['Id','label']\n",
    "#     writer = csv.DictWriter(csvfile, fieldnames=fieldnames)\n",
    "#     writer.writeheader()\n",
    "#     for index,l in enumerate(predicted_values_generated_by_your_model):\n",
    "#         filename = '{:05d}'.format(index)+'.png'\n",
    "#         label = str(l)\n",
    "#         writer.writerow({'Id': filename, 'label': label})\n",
    "\n",
    "filenames=[x.lstrip('test_128/') for x in test_bottle.filenames]\n",
    "results=pd.DataFrame({\"Id\":filenames,\n",
    "                      \"label\":predictions})\n",
    "results.to_csv(\"prediction_label.csv\",index=False)"
   ]
  },
  {
   "cell_type": "markdown",
   "metadata": {},
   "source": [
    "# <span style=\"color:red\">PLEASE CHECK THIS BOX</span> #\n",
    "\n",
    "Since I used VGG-19 as a pre-trained model which is too large, I cannot push it onto Github, I will attach a link below. If you have any question about the link, please let me know! Thank You!\n",
    "\n",
    "https://drive.google.com/drive/folders/1N80VTPrCLI6LGjQlgBfJHxCmIpE3fzUo?usp=sharing"
   ]
  },
  {
   "cell_type": "code",
   "execution_count": null,
   "metadata": {},
   "outputs": [],
   "source": []
  }
 ],
 "metadata": {
  "kernelspec": {
   "display_name": "Python 3",
   "language": "python",
   "name": "python3"
  },
  "language_info": {
   "codemirror_mode": {
    "name": "ipython",
    "version": 3
   },
   "file_extension": ".py",
   "mimetype": "text/x-python",
   "name": "python",
   "nbconvert_exporter": "python",
   "pygments_lexer": "ipython3",
   "version": "3.7.4"
  }
 },
 "nbformat": 4,
 "nbformat_minor": 2
}
