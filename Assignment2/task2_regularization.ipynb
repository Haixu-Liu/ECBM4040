{
 "cells": [
  {
   "cell_type": "markdown",
   "metadata": {
    "id": "3LYEkYxg6AXd"
   },
   "source": [
    "## Columbia University\n",
    "### ECBM E4040 Neural Networks and Deep Learning. Fall 2020."
   ]
  },
  {
   "cell_type": "markdown",
   "metadata": {
    "id": "Fdo85TgL6AXf"
   },
   "source": [
    "# Assignment 2 - Task 2: Regularizations\n",
    "\n",
    "In this task, you are going to experiment with two popular regularization methods. \n",
    "\n",
    "**Dropout:** In the last assignment, you have trained a shallow network and everything looked fine. However, when the network becomes larger and deeper, it will also become harder to train. The first potential problem is over-fitting, that is, the network overreacts to noise or random errors of the training data, while it fails to detect the underlying distribution pattern. It is more likely to occur when the model becomes complex and contains more trainable parameters. Dropout is a well-known method that can eliminate such effects. The core idea behind it is quite simple, ie., rather than updating all trainable parameters each time, it randomly selects a subset of parameters to update and keeps other parameters unaltered.\n",
    "\n",
    "\n",
    "\n",
    "**Batch normalization:** Batch normalization makes it possible to train a deep network. When a network becomes deeper, the distribution of hidden neurons' values will also shift greatly, and that is one reason that makes it hard to train a deep neural network. Machine learning teaches that normalization is a good preprocessing method to deal with such a problem. So  batch normalization deploys a similar idea in the neural network. It re-normalizes the hidden values of each layer before transfering values to the next layer.\n",
    "\n",
    "\n",
    "* References\n",
    "    * https://www.cs.toronto.edu/~hinton/absps/JMLRdropout.pdf\n",
    "    * https://arxiv.org/pdf/1502.03167.pdf\n",
    "    * https://www.tensorflow.org/api_docs/python/tf/keras/layers/BatchNormalization\n",
    "    * https://www.tensorflow.org/api_docs/python/tf/nn/batch_normalization"
   ]
  },
  {
   "cell_type": "code",
   "execution_count": 1,
   "metadata": {
    "colab": {
     "base_uri": "https://localhost:8080/",
     "height": 368
    },
    "id": "Vzk7UepL6AXh",
    "outputId": "1042bba7-31c9-4908-aec7-1e85fd31a515"
   },
   "outputs": [],
   "source": [
    "# Import modules\n",
    "from __future__ import print_function\n",
    "import tensorflow as tf\n",
    "import numpy as np\n",
    "import matplotlib.pyplot as plt\n",
    "from utils.cifar_utils import load_data\n",
    "\n",
    "%matplotlib inline\n",
    "%load_ext autoreload\n",
    "%autoreload 2"
   ]
  },
  {
   "cell_type": "markdown",
   "metadata": {
    "id": "ds0Ez_Jd6AXm"
   },
   "source": [
    "## Load Data"
   ]
  },
  {
   "cell_type": "code",
   "execution_count": 2,
   "metadata": {
    "id": "dvREhgSi6AXn",
    "outputId": "4d48a7bb-98aa-4ab7-a97c-ea093e7a1cd9"
   },
   "outputs": [
    {
     "name": "stdout",
     "output_type": "stream",
     "text": [
      "./data/cifar-10-python.tar.gz already exists. Begin extracting...\n",
      "Training data shape:  (2000, 3072)\n",
      "Training labels shape:  (2000,)\n",
      "Validation data shape:  (500, 3072)\n",
      "Validation labels shape:  (500,)\n"
     ]
    }
   ],
   "source": [
    "# Load the raw CIFAR-10 data.\n",
    "X_train, y_train, X_test, y_test = load_data()\n",
    "X_val = X_train[:500,:]\n",
    "y_val = y_train[:500]\n",
    "X_train = X_train[500:2500,:]\n",
    "y_train = y_train[500:2500]\n",
    "\n",
    "mean_image = np.mean(X_train, axis=0).astype(np.float32)\n",
    "X_train = X_train.astype(np.float32) - mean_image\n",
    "X_val = X_val.astype(np.float32) - mean_image\n",
    "\n",
    "# We've vectorized the data for you. That is, we flatten the 32×32×3 images into 1×3072 Numpy arrays.\n",
    "print('Training data shape: ', X_train.shape)\n",
    "print('Training labels shape: ', y_train.shape)\n",
    "print('Validation data shape: ', X_val.shape)\n",
    "print('Validation labels shape: ', y_val.shape)"
   ]
  },
  {
   "cell_type": "markdown",
   "metadata": {
    "id": "XTUzh-RW6AXq"
   },
   "source": [
    "## Part 1: Dropout"
   ]
  },
  {
   "cell_type": "markdown",
   "metadata": {
    "id": "YS_DeMfD6AXr"
   },
   "source": [
    "### Implement dropout_foward function\n",
    "\n",
    "<span style=\"color:red\"><strong>TODO:</strong></span> Edit function **dropout_forward** in **./utils/reg_funcs.py**. If the code is running correctly, you will see that the outputs of the verification code should be close to each other. \n",
    "<br><br> If the function is correct, then **the output mean should be close to the input mean. Input mean and output test mean should be identical.**"
   ]
  },
  {
   "cell_type": "code",
   "execution_count": 3,
   "metadata": {
    "id": "fDTehnYK6AXr"
   },
   "outputs": [],
   "source": [
    "x_in = np.random.randn(500, 500) + 10"
   ]
  },
  {
   "cell_type": "code",
   "execution_count": 4,
   "metadata": {
    "id": "H-IxG82F6AXv",
    "outputId": "c5d026a1-468d-41b4-902a-99fbc33f4b6b"
   },
   "outputs": [
    {
     "name": "stdout",
     "output_type": "stream",
     "text": [
      "mean_of_input = 5.0000681211527755\n",
      "mean_of_out = 5.011830079503709\n",
      "mean_of_out_test = 5.0000681211527755\n"
     ]
    }
   ],
   "source": [
    "################################################\n",
    "# Checking/verification code. Don't change it. #\n",
    "################################################\n",
    "from utils.reg_funcs import dropout_forward\n",
    "from utils.reg_funcs import dropout_backward\n",
    "\n",
    "p = 0.5\n",
    "dropout_config = {\"enabled\": True, \"keep_prob\": p}\n",
    "# feedforward\n",
    "out, cache = dropout_forward(x=x_in, dropout_config=dropout_config, mode=\"train\")\n",
    "out_test, _ = dropout_forward(x=x_in, dropout_config=dropout_config, mode=\"test\") \n",
    "# backward\n",
    "dout = np.ones_like(x_in)\n",
    "dx = dropout_backward(dout, cache)\n",
    "################################################\n",
    "# Checking/verification code. Don't change it. #\n",
    "################################################\n",
    "# Check forward correctness\n",
    "print(\"mean_of_input = {}\".format(p*np.mean(x_in)))\n",
    "print(\"mean_of_out = {}\".format(np.mean(out)))\n",
    "print(\"mean_of_out_test = {}\".format(np.mean(out_test)))"
   ]
  },
  {
   "cell_type": "markdown",
   "metadata": {
    "id": "O_rWyVEN6AXy"
   },
   "source": [
    "### Dropout Experiments with MLP\n",
    "\n",
    "<span style=\"color:red\"><strong>TODO:</strong></span>\n",
    "\n",
    "1. Add dropout into the MLP. Review **loss**, **predict** functions of class **MLP** in **./utils/neuralnets/mlp.py** and understand how the dropout is added into the MLP.\n",
    "\n",
    "2. Customize your own MLP network.Then, train networks with different **keep_prob**, like 0.1, 0.5, 0.7, 0.9, 1. If **keep_prob**==1, then the network is the MLP without dropout.\n",
    "\n",
    "3. Plot the loss, train accuracy and valid accuracy curves.\n",
    "\n",
    "Note that checking/validation code is included below with preselected dropout parameters."
   ]
  },
  {
   "cell_type": "code",
   "execution_count": 5,
   "metadata": {
    "id": "YiYG714I6AXy"
   },
   "outputs": [],
   "source": [
    "from utils.neuralnets.mlp import MLP \n",
    "from utils.optimizers import AdamOptim"
   ]
  },
  {
   "cell_type": "code",
   "execution_count": 6,
   "metadata": {
    "id": "exV0Kom46AX1",
    "outputId": "106f93b9-241e-4a30-e91b-18ab04b37489",
    "scrolled": true
   },
   "outputs": [
    {
     "name": "stdout",
     "output_type": "stream",
     "text": [
      "number of batches for training: 20\n",
      "epoch 1: valid acc = 0.252, new learning rate = 0.00095\n",
      "epoch 2: valid acc = 0.278, new learning rate = 0.0009025\n",
      "epoch 3: valid acc = 0.31, new learning rate = 0.000857375\n",
      "epoch 4: valid acc = 0.328, new learning rate = 0.0008145062499999999\n",
      "epoch 5: valid acc = 0.342, new learning rate = 0.0007737809374999998\n",
      "epoch 6: valid acc = 0.33, new learning rate = 0.0007350918906249997\n",
      "epoch 7: valid acc = 0.334, new learning rate = 0.0006983372960937497\n",
      "epoch 8: valid acc = 0.328, new learning rate = 0.0006634204312890621\n",
      "epoch 9: valid acc = 0.304, new learning rate = 0.000630249409724609\n",
      "epoch 10: valid acc = 0.328, new learning rate = 0.0005987369392383785\n",
      "epoch 11: valid acc = 0.326, new learning rate = 0.0005688000922764595\n",
      "epoch 12: valid acc = 0.306, new learning rate = 0.0005403600876626365\n",
      "epoch 13: valid acc = 0.306, new learning rate = 0.0005133420832795047\n",
      "epoch 14: valid acc = 0.334, new learning rate = 0.00048767497911552944\n",
      "epoch 15: valid acc = 0.314, new learning rate = 0.00046329123015975297\n",
      "epoch 16: valid acc = 0.314, new learning rate = 0.0004401266686517653\n",
      "epoch 17: valid acc = 0.328, new learning rate = 0.00041812033521917703\n",
      "epoch 18: valid acc = 0.358, new learning rate = 0.00039721431845821814\n",
      "epoch 19: valid acc = 0.32, new learning rate = 0.0003773536025353072\n",
      "epoch 20: valid acc = 0.322, new learning rate = 0.0003584859224085418\n"
     ]
    }
   ],
   "source": [
    "# Here is an example on how to collect loss and accuracy info\n",
    "dropout_config = {\"enabled\":True, \"keep_prob\": 1}\n",
    "model = MLP(input_dim=3072, hidden_dims=[200], num_classes=10, \n",
    "            weight_scale=1e-3, l2_reg=0.0, dropout_config=dropout_config)\n",
    "optimizer = AdamOptim(model)\n",
    "# hist_no_dropout contains loss, train acc and valid acc history.\n",
    "hist_no_dropout = optimizer.train(model, X_train, y_train, X_val, y_val, \n",
    "                           num_epoch=20, batch_size=100, learning_rate=1e-3, learning_decay=0.95, \n",
    "                           verbose=False, record_interval = 4)"
   ]
  },
  {
   "cell_type": "code",
   "execution_count": 7,
   "metadata": {
    "id": "GMcsqo7Y6AX8",
    "outputId": "61a49d60-f10e-4a34-c6d5-afbd4fdc207d"
   },
   "outputs": [
    {
     "name": "stdout",
     "output_type": "stream",
     "text": [
      "number of batches for training: 20\n",
      "epoch 1: valid acc = 0.234, new learning rate = 0.00095\n",
      "epoch 2: valid acc = 0.294, new learning rate = 0.0009025\n",
      "epoch 3: valid acc = 0.316, new learning rate = 0.000857375\n",
      "epoch 4: valid acc = 0.34, new learning rate = 0.0008145062499999999\n",
      "epoch 5: valid acc = 0.334, new learning rate = 0.0007737809374999998\n",
      "epoch 6: valid acc = 0.346, new learning rate = 0.0007350918906249997\n",
      "epoch 7: valid acc = 0.346, new learning rate = 0.0006983372960937497\n",
      "epoch 8: valid acc = 0.352, new learning rate = 0.0006634204312890621\n",
      "epoch 9: valid acc = 0.352, new learning rate = 0.000630249409724609\n",
      "epoch 10: valid acc = 0.358, new learning rate = 0.0005987369392383785\n",
      "epoch 11: valid acc = 0.346, new learning rate = 0.0005688000922764595\n",
      "epoch 12: valid acc = 0.35, new learning rate = 0.0005403600876626365\n",
      "epoch 13: valid acc = 0.362, new learning rate = 0.0005133420832795047\n",
      "epoch 14: valid acc = 0.37, new learning rate = 0.00048767497911552944\n",
      "epoch 15: valid acc = 0.384, new learning rate = 0.00046329123015975297\n",
      "epoch 16: valid acc = 0.36, new learning rate = 0.0004401266686517653\n",
      "epoch 17: valid acc = 0.362, new learning rate = 0.00041812033521917703\n",
      "epoch 18: valid acc = 0.348, new learning rate = 0.00039721431845821814\n",
      "epoch 19: valid acc = 0.362, new learning rate = 0.0003773536025353072\n",
      "epoch 20: valid acc = 0.37, new learning rate = 0.0003584859224085418\n"
     ]
    }
   ],
   "source": [
    "# small retention rate\n",
    "dropout_config[\"keep_prob\"] = 0.1\n",
    "model = MLP(input_dim=3072, hidden_dims=[200], num_classes=10, \n",
    "            weight_scale=1e-2, l2_reg=0.0, dropout_config=dropout_config)\n",
    "optimizer = AdamOptim(model)\n",
    "hist_dropout_1 = optimizer.train(model, X_train, y_train, X_val, y_val, \n",
    "                           num_epoch=20, batch_size=100, learning_rate=1e-3, learning_decay=0.95,\n",
    "                           verbose=False, record_interval = 4)"
   ]
  },
  {
   "cell_type": "code",
   "execution_count": 8,
   "metadata": {
    "id": "TDH8fVni6AX_",
    "outputId": "80d3c569-7d34-44f5-ee8a-053846be6140"
   },
   "outputs": [
    {
     "name": "stdout",
     "output_type": "stream",
     "text": [
      "number of batches for training: 20\n",
      "epoch 1: valid acc = 0.226, new learning rate = 0.00095\n",
      "epoch 2: valid acc = 0.328, new learning rate = 0.0009025\n",
      "epoch 3: valid acc = 0.31, new learning rate = 0.000857375\n",
      "epoch 4: valid acc = 0.34, new learning rate = 0.0008145062499999999\n",
      "epoch 5: valid acc = 0.352, new learning rate = 0.0007737809374999998\n",
      "epoch 6: valid acc = 0.36, new learning rate = 0.0007350918906249997\n",
      "epoch 7: valid acc = 0.366, new learning rate = 0.0006983372960937497\n",
      "epoch 8: valid acc = 0.388, new learning rate = 0.0006634204312890621\n",
      "epoch 9: valid acc = 0.386, new learning rate = 0.000630249409724609\n",
      "epoch 10: valid acc = 0.352, new learning rate = 0.0005987369392383785\n",
      "epoch 11: valid acc = 0.356, new learning rate = 0.0005688000922764595\n",
      "epoch 12: valid acc = 0.37, new learning rate = 0.0005403600876626365\n",
      "epoch 13: valid acc = 0.348, new learning rate = 0.0005133420832795047\n",
      "epoch 14: valid acc = 0.352, new learning rate = 0.00048767497911552944\n",
      "epoch 15: valid acc = 0.38, new learning rate = 0.00046329123015975297\n",
      "epoch 16: valid acc = 0.38, new learning rate = 0.0004401266686517653\n",
      "epoch 17: valid acc = 0.36, new learning rate = 0.00041812033521917703\n",
      "epoch 18: valid acc = 0.35, new learning rate = 0.00039721431845821814\n",
      "epoch 19: valid acc = 0.382, new learning rate = 0.0003773536025353072\n",
      "epoch 20: valid acc = 0.38, new learning rate = 0.0003584859224085418\n"
     ]
    }
   ],
   "source": [
    "dropout_config[\"keep_prob\"] = 0.5\n",
    "model = MLP(input_dim=3072, hidden_dims=[200], num_classes=10, \n",
    "            weight_scale=1e-2, l2_reg=0.0, dropout_config=dropout_config)\n",
    "optimizer = AdamOptim(model)\n",
    "hist_dropout_5 = optimizer.train(model, X_train, y_train, X_val, y_val, \n",
    "                           num_epoch=20, batch_size=100, learning_rate=1e-3, learning_decay=0.95,\n",
    "                           verbose=False, record_interval = 4)"
   ]
  },
  {
   "cell_type": "code",
   "execution_count": 9,
   "metadata": {
    "id": "C9kbu5Qx6AYD",
    "outputId": "ea119b72-9f1c-4287-f01d-61a55dde594d"
   },
   "outputs": [
    {
     "name": "stdout",
     "output_type": "stream",
     "text": [
      "number of batches for training: 20\n",
      "epoch 1: valid acc = 0.18, new learning rate = 0.00095\n",
      "epoch 2: valid acc = 0.29, new learning rate = 0.0009025\n",
      "epoch 3: valid acc = 0.308, new learning rate = 0.000857375\n",
      "epoch 4: valid acc = 0.358, new learning rate = 0.0008145062499999999\n",
      "epoch 5: valid acc = 0.34, new learning rate = 0.0007737809374999998\n",
      "epoch 6: valid acc = 0.346, new learning rate = 0.0007350918906249997\n",
      "epoch 7: valid acc = 0.346, new learning rate = 0.0006983372960937497\n",
      "epoch 8: valid acc = 0.376, new learning rate = 0.0006634204312890621\n",
      "epoch 9: valid acc = 0.366, new learning rate = 0.000630249409724609\n",
      "epoch 10: valid acc = 0.358, new learning rate = 0.0005987369392383785\n",
      "epoch 11: valid acc = 0.354, new learning rate = 0.0005688000922764595\n",
      "epoch 12: valid acc = 0.366, new learning rate = 0.0005403600876626365\n",
      "epoch 13: valid acc = 0.332, new learning rate = 0.0005133420832795047\n",
      "epoch 14: valid acc = 0.366, new learning rate = 0.00048767497911552944\n",
      "epoch 15: valid acc = 0.368, new learning rate = 0.00046329123015975297\n",
      "epoch 16: valid acc = 0.362, new learning rate = 0.0004401266686517653\n",
      "epoch 17: valid acc = 0.362, new learning rate = 0.00041812033521917703\n",
      "epoch 18: valid acc = 0.346, new learning rate = 0.00039721431845821814\n",
      "epoch 19: valid acc = 0.352, new learning rate = 0.0003773536025353072\n",
      "epoch 20: valid acc = 0.36, new learning rate = 0.0003584859224085418\n"
     ]
    }
   ],
   "source": [
    "dropout_config[\"keep_prob\"] = 0.7\n",
    "model = MLP(input_dim=3072, hidden_dims=[200], num_classes=10, \n",
    "            weight_scale=1e-2, l2_reg=0.0, dropout_config=dropout_config)\n",
    "optimizer = AdamOptim(model)\n",
    "hist_dropout_7 = optimizer.train(model, X_train, y_train, X_val, y_val, \n",
    "                           num_epoch=20, batch_size=100, learning_rate=1e-3, learning_decay=0.95,\n",
    "                           verbose=False, record_interval = 4)"
   ]
  },
  {
   "cell_type": "code",
   "execution_count": 10,
   "metadata": {
    "id": "8SJ7SWpn6AYG",
    "outputId": "61a117d7-ff0f-4814-c250-9787cdf761bd"
   },
   "outputs": [
    {
     "name": "stdout",
     "output_type": "stream",
     "text": [
      "number of batches for training: 20\n",
      "epoch 1: valid acc = 0.188, new learning rate = 0.00095\n",
      "epoch 2: valid acc = 0.262, new learning rate = 0.0009025\n",
      "epoch 3: valid acc = 0.334, new learning rate = 0.000857375\n",
      "epoch 4: valid acc = 0.32, new learning rate = 0.0008145062499999999\n",
      "epoch 5: valid acc = 0.326, new learning rate = 0.0007737809374999998\n",
      "epoch 6: valid acc = 0.364, new learning rate = 0.0007350918906249997\n",
      "epoch 7: valid acc = 0.342, new learning rate = 0.0006983372960937497\n",
      "epoch 8: valid acc = 0.34, new learning rate = 0.0006634204312890621\n",
      "epoch 9: valid acc = 0.352, new learning rate = 0.000630249409724609\n",
      "epoch 10: valid acc = 0.344, new learning rate = 0.0005987369392383785\n",
      "epoch 11: valid acc = 0.358, new learning rate = 0.0005688000922764595\n",
      "epoch 12: valid acc = 0.366, new learning rate = 0.0005403600876626365\n",
      "epoch 13: valid acc = 0.366, new learning rate = 0.0005133420832795047\n",
      "epoch 14: valid acc = 0.362, new learning rate = 0.00048767497911552944\n",
      "epoch 15: valid acc = 0.338, new learning rate = 0.00046329123015975297\n",
      "epoch 16: valid acc = 0.338, new learning rate = 0.0004401266686517653\n",
      "epoch 17: valid acc = 0.318, new learning rate = 0.00041812033521917703\n",
      "epoch 18: valid acc = 0.358, new learning rate = 0.00039721431845821814\n",
      "epoch 19: valid acc = 0.34, new learning rate = 0.0003773536025353072\n",
      "epoch 20: valid acc = 0.348, new learning rate = 0.0003584859224085418\n"
     ]
    }
   ],
   "source": [
    "dropout_config[\"keep_prob\"] = 0.9\n",
    "model = MLP(input_dim=3072, hidden_dims=[200], num_classes=10, \n",
    "            weight_scale=1e-2, l2_reg=0.0, dropout_config=dropout_config)\n",
    "optimizer = AdamOptim(model)\n",
    "hist_dropout_9 = optimizer.train(model, X_train, y_train, X_val, y_val, \n",
    "                           num_epoch=20, batch_size=100, learning_rate=1e-3, learning_decay=0.95,\n",
    "                           verbose=False, record_interval = 4)"
   ]
  },
  {
   "cell_type": "code",
   "execution_count": 11,
   "metadata": {
    "id": "LPc4qesD6AYL"
   },
   "outputs": [],
   "source": [
    "loss_no_dropout, train_acc_no_dropout, val_acc_no_dropout = hist_no_dropout\n",
    "loss_dropout_1, train_acc_dropout_1, val_acc_dropout_1 = hist_dropout_1\n",
    "loss_dropout_5, train_acc_dropout_5, val_acc_dropout_5 = hist_dropout_5\n",
    "loss_dropout_7, train_acc_dropout_7, val_acc_dropout_7 = hist_dropout_7\n",
    "loss_dropout_9, train_acc_dropout_9, val_acc_dropout_9 = hist_dropout_9"
   ]
  },
  {
   "cell_type": "code",
   "execution_count": 12,
   "metadata": {
    "id": "iADu-dbI6AYQ",
    "outputId": "03e118c1-5b8b-42e9-f845-ac33aa73690c"
   },
   "outputs": [
    {
     "data": {
      "image/png": "[encoded data removed]",
      "text/plain": [
       "<Figure size 432x288 with 1 Axes>"
      ]
     },
     "metadata": {
      "needs_background": "light"
     },
     "output_type": "display_data"
    }
   ],
   "source": [
    "plt.plot(loss_no_dropout, label=\"no dropout\")\n",
    "plt.plot(loss_dropout_1, label=\"keep_prob=0.1\")\n",
    "plt.plot(loss_dropout_5, label=\"keep_prob=0.5\")\n",
    "plt.plot(loss_dropout_7, label=\"keep_prob=0.7\")\n",
    "plt.plot(loss_dropout_9, label=\"keep_prob=0.9\")\n",
    "plt.legend()\n",
    "plt.show()"
   ]
  },
  {
   "cell_type": "code",
   "execution_count": 13,
   "metadata": {
    "id": "3jOGbPSJ6AYT",
    "outputId": "2ebee228-39b7-44c2-eb63-b2e7c8727600"
   },
   "outputs": [
    {
     "data": {
      "image/png": "[encoded data removed]",
      "text/plain": [
       "<Figure size 432x288 with 1 Axes>"
      ]
     },
     "metadata": {
      "needs_background": "light"
     },
     "output_type": "display_data"
    }
   ],
   "source": [
    "plt.plot(train_acc_no_dropout, label=\"no dropout\")\n",
    "plt.plot(train_acc_dropout_1, label=\"keep_prob=0.1\")\n",
    "plt.plot(train_acc_dropout_5, label=\"keep_prob=0.5\")\n",
    "plt.plot(train_acc_dropout_7, label=\"keep_prob=0.7\")\n",
    "plt.plot(train_acc_dropout_9, label=\"keep_prob=0.9\")\n",
    "plt.legend()\n",
    "plt.show()"
   ]
  },
  {
   "cell_type": "code",
   "execution_count": 14,
   "metadata": {
    "id": "pLd4LwXy6AYW",
    "outputId": "3d2d6062-ec61-4425-f2ae-d35a50017081"
   },
   "outputs": [
    {
     "data": {
      "image/png": "[encoded data removed]",
      "text/plain": [
       "<Figure size 432x288 with 1 Axes>"
      ]
     },
     "metadata": {
      "needs_background": "light"
     },
     "output_type": "display_data"
    }
   ],
   "source": [
    "plt.plot(val_acc_no_dropout, label=\"no dropout\")\n",
    "plt.plot(val_acc_dropout_1, label=\"keep_prob=0.1\")\n",
    "plt.plot(val_acc_dropout_5, label=\"keep_prob=0.5\")\n",
    "plt.plot(val_acc_dropout_7, label=\"keep_prob=0.7\")\n",
    "plt.plot(val_acc_dropout_9, label=\"keep_prob=0.9\")\n",
    "plt.legend()\n",
    "plt.show()"
   ]
  },
  {
   "cell_type": "markdown",
   "metadata": {
    "id": "mvY38N3F6AYY"
   },
   "source": [
    "<span style=\"color:red\"><strong>TODO:</strong></span> Describe what you find in this dropout experiment."
   ]
  },
  {
   "cell_type": "markdown",
   "metadata": {
    "id": "aX5nPa5O6AYZ"
   },
   "source": [
    "Answer: dropout doesn't change loss in my experiment, when I set keep probability to 0.1, training accuracy drops observably, but during testing, this keep probability shows a better performance. As for the trainer with no dropout, it performed the worst during testing, as shown in the above graph. In general, in order to get a better result, keep probability should be set to 0.5 or 0.7."
   ]
  },
  {
   "cell_type": "markdown",
   "metadata": {
    "id": "hDCigeWe6AYZ"
   },
   "source": [
    "## Part 2: Batch Normalization"
   ]
  },
  {
   "cell_type": "markdown",
   "metadata": {
    "id": "TEvUQYtA6AYZ"
   },
   "source": [
    "### Implement batch normalization foward function\n",
    "\n",
    "<span style=\"color:red\"><strong>TODO:</strong></span> Edit functions **bn_forward** in **./utils/reg_funcs.py**. <br> If the code is running correctly, **mean of a2_bn for train will be very close to 0 and variance of a2_bn will be close to 1.**"
   ]
  },
  {
   "cell_type": "code",
   "execution_count": 15,
   "metadata": {
    "id": "pYbewHd86AYa",
    "outputId": "49943547-fa4b-4b7a-b457-f0261042220c"
   },
   "outputs": [
    {
     "name": "stdout",
     "output_type": "stream",
     "text": [
      "mean of a2:  [ 1.30614901  5.92062846 -3.22121602]\n",
      "var of a2:  [ 6.82372265 40.8015143   9.77739076]\n",
      "(train) mean of a2_bn:  [-2.97262215e-16 -4.14113188e-16 -1.58623115e-16]\n",
      "(train) var of a2_bn:  [0.99999853 0.99999975 0.99999898]\n"
     ]
    }
   ],
   "source": [
    "####################################################\n",
    "# Checking/verification code. Don't change it.     #\n",
    "####################################################\n",
    "\n",
    "from utils.reg_funcs import bn_forward\n",
    "from utils.reg_funcs import bn_backward\n",
    "\n",
    "np.random.seed(4041)\n",
    "N, D, H1, H2 = 200, 10, 5, 3\n",
    "x_in = np.random.randn(N, D)\n",
    "w1 = np.random.randn(D,H1)\n",
    "w2 = np.random.randn(H1,H2)\n",
    "a2 = np.maximum(x_in.dot(w1),0).dot(w2)\n",
    "\n",
    "# Before batch normalization\n",
    "print(\"mean of a2: \", np.mean(a2, axis=0))\n",
    "print(\"var of a2: \", np.var(a2, axis=0))\n",
    "\n",
    "# Test \"train mode\" of forward function\n",
    "# After batch normalization, the mean should be close to zero and var should be close to one. \n",
    "bn_config = {\"epsilon\":1e-5, \"decay\":0.9}\n",
    "gamma = np.ones(H2)\n",
    "beta = np.zeros(H2)\n",
    "a2_bn, _ = bn_forward(a2, gamma, beta, bn_config, \"train\")\n",
    "print(\"(train) mean of a2_bn: \", np.mean(a2_bn, axis=0))\n",
    "print(\"(train) var of a2_bn: \", np.var(a2_bn, axis=0))"
   ]
  },
  {
   "cell_type": "markdown",
   "metadata": {
    "id": "sWP57QuH6AYc"
   },
   "source": [
    "<span style=\"color:red\"><strong>TODO:</strong></span> Test \"moving average\" and \"test mode\" of the bn_forward function. <br> We expect that the mean & variance of the test to be fairly close to the real values and mean & variance of a2_bn to be close to 0 and 1 respectively."
   ]
  },
  {
   "cell_type": "code",
   "execution_count": 16,
   "metadata": {
    "id": "Z68gXX2D6AYc",
    "outputId": "4a8a4b51-5e1e-4a9b-f4e7-4efb39d675b6"
   },
   "outputs": [
    {
     "name": "stdout",
     "output_type": "stream",
     "text": [
      "real mean of data:  [ 0.98787625  5.15537852 -3.17395627]\n",
      "real var of data:  [ 5.52632903 33.50179753  8.69746352]\n",
      "moving mean of data:  [ 1.00212034  5.17647793 -3.15367683]\n",
      "moving var of data:  [ 5.58824353 34.13057973  8.74946176]\n",
      "********************************************************************************\n",
      "mean of a2:  [ 1.08884721  4.92968194 -3.10726945]\n",
      "var of a2:  [ 4.97160606 38.72623056  8.64775578]\n",
      "(test) mean of a2_bn:  [ 0.03668729 -0.04224411  0.01568903]\n",
      "(test) var of a2_bn:  [0.88965292 1.13464874 0.98837461]\n"
     ]
    }
   ],
   "source": [
    "#######################################\n",
    "# Checking code. Don't change it.     #\n",
    "#######################################\n",
    "\n",
    "# Test \"moving average\" and \"test mode\" of forward function\n",
    "# Then you are going to run the forward function under \"training mode\" for several times, \n",
    "# and the moving mean and moving var will be close to the real mean and var of the input data.\n",
    "# Next, run the forward function under \"test\" mode and you will see that the mean and var of its \n",
    "# output will be also close to gamma, beta that you have set before.\n",
    "\n",
    "bn_config = {\"epsilon\":1e-5, \"decay\":0.9}\n",
    "gamma = np.ones(H2)\n",
    "beta = np.zeros(H2)\n",
    "\n",
    "# collect_data: for calculating real mean and var of a2 later.\n",
    "collect_data = a2\n",
    "for _ in range(100):\n",
    "    x_in = np.random.randn(N, D)\n",
    "    a2 = np.maximum(x_in.dot(w1),0).dot(w2)\n",
    "    collect_data = np.concatenate((collect_data, a2), axis=0)\n",
    "    bn_forward(a2, gamma, beta, bn_config, \"train\")\n",
    "\n",
    "# compare moving_mean and moving_var with real mean and var.\n",
    "# You should see that they are close to each other.\n",
    "print(\"real mean of data: \", np.mean(collect_data, axis=0))\n",
    "print(\"real var of data: \", np.var(collect_data, axis=0))\n",
    "print(\"moving mean of data: \", bn_config[\"moving_mean\"])\n",
    "print(\"moving var of data: \", bn_config[\"moving_var\"])\n",
    "\n",
    "# \"test mode\" of forward function\n",
    "# After bn_forward, the mean and var of output should be kind of close to gamma and beta.\n",
    "x_in = np.random.randn(N, D)\n",
    "a2 = np.maximum(x_in.dot(w1),0).dot(w2)\n",
    "print(\"*\"*80)\n",
    "print(\"mean of a2: \", np.mean(a2, axis=0))\n",
    "print(\"var of a2: \", np.var(a2, axis=0))\n",
    "a2_bn, _ = bn_forward(a2, gamma, beta, bn_config, \"test\")\n",
    "print(\"(test) mean of a2_bn: \", np.mean(a2_bn, axis=0))\n",
    "print(\"(test) var of a2_bn: \", np.var(a2_bn, axis=0))"
   ]
  },
  {
   "cell_type": "markdown",
   "metadata": {
    "id": "6jkI7d9g6AYe"
   },
   "source": [
    "<span style=\"color:red\"><strong>TODO:</strong></span> Use TensorFlow 2 functions to verify the correctness of the backward function. You should use functions from TensorFlow 2 to get the gradients. \n",
    "<br>**Hint: use tf.GradientTape()**"
   ]
  },
  {
   "cell_type": "code",
   "execution_count": 17,
   "metadata": {
    "id": "UEBUp_kv6AYe",
    "outputId": "e016aa39-a057-4dae-aa2c-b7da2e7350f6"
   },
   "outputs": [
    {
     "name": "stdout",
     "output_type": "stream",
     "text": [
      "Is a2_bn correct? True\n",
      "Is da2 correct? True\n",
      "Is dgamma correct? True\n",
      "Is dbeta correct? True\n"
     ]
    }
   ],
   "source": [
    "# After verifying the forward function and save the bn_config.\n",
    "x_in = np.random.randn(N, D)\n",
    "a2 = np.maximum(x_in.dot(w1),0).dot(w2)\n",
    "da2_bn = np.ones_like(a2)\n",
    "# Test backward function with tensorflow\n",
    "# You will use bn_config = {\"eps\":1e-5, \"decay\":0.9, \"moving_mean\":moving_mean, \"moving_var\":moving_var}\n",
    "gamma = np.ones(H2)\n",
    "beta = np.zeros(H2)\n",
    "a2_bn, cache = bn_forward(a2, gamma, beta, bn_config, \"test\")\n",
    "da2, dgamma, dbeta = bn_backward(da2_bn, cache)\n",
    "\n",
    "###################################################\n",
    "# TODO: verify the backward code. You should use  #\n",
    "# the parameters in bn_config and other variables #\n",
    "# above.                                          #\n",
    "###################################################\n",
    "a2_tf = tf.Variable(a2, name='a2')\n",
    "gamma_tf = tf.Variable(gamma, name='gamma')\n",
    "beta_tf = tf.Variable(beta, name='beta')\n",
    "\n",
    "eps = bn_config['epsilon']\n",
    "moving_mean = bn_config['moving_mean']\n",
    "moving_var = bn_config['moving_var']\n",
    "\n",
    "with tf.GradientTape() as tape:\n",
    "    tape.watch([a2_tf, beta_tf, gamma_tf])\n",
    "    a2_bn_tf = gamma_tf * (a2_tf - moving_mean) / np.sqrt(moving_var + eps) + beta_tf\n",
    "\n",
    "da2_tf, dgamma_tf, dbeta_tf = tape.gradient(a2_bn_tf, (a2_tf, gamma_tf, beta_tf))\n",
    "\n",
    "a2_bn_check = a2_bn_tf.numpy()\n",
    "da2_check, dgamma_check, dbeta_check = da2_tf.numpy(), dgamma_tf.numpy(),dbeta_tf.numpy()\n",
    "###################################################\n",
    "# ENDTODO #\n",
    "###################################################\n",
    "\n",
    "    \n",
    "# Make comparison\n",
    "print(\"Is a2_bn correct? {}\".format(np.allclose(a2_bn, a2_bn_check)))\n",
    "print(\"Is da2 correct? {}\".format(np.allclose(da2, da2_check)))\n",
    "print(\"Is dgamma correct? {}\".format(np.allclose(dgamma, dgamma_check)))\n",
    "print(\"Is dbeta correct? {}\".format(np.allclose(dbeta, dbeta_check)))"
   ]
  },
  {
   "cell_type": "code",
   "execution_count": 18,
   "metadata": {
    "id": "iNvFeoZr6AYh",
    "outputId": "43ed998e-0d01-402e-e637-8c55f13d6129"
   },
   "outputs": [
    {
     "name": "stdout",
     "output_type": "stream",
     "text": [
      "tf.Tensor([12.03819777 14.17320309 -9.38288105], shape=(3,), dtype=float64)\n"
     ]
    }
   ],
   "source": [
    "print(dgamma_tf)"
   ]
  },
  {
   "cell_type": "markdown",
   "metadata": {
    "id": "IyPxImzm6AYi"
   },
   "source": [
    "### Batch Normalization Experiments with MLP\n",
    "\n",
    "<span style=\"color:red\"><strong>TODO:</strong></span>\n",
    "\n",
    "1. Add batch normalization into MLP. Please understand **loss**, **predict** functions of the class **MLP** in **./utils/neuralnets/mlp.py**\n",
    "\n",
    "2. First create a shallow MLP like two-layer network like [100,10]. Train it without and with batch normalization. Plot the loss, train accuracy and valid(ation) accuracy curves.\n",
    "\n",
    "3. Then, create a 5-layer MLP network like [100,50,50,50,10] and train the network with and without batch normalization. Plot the loss, train accuracy and valid accuracy curves.\n",
    "\n",
    "4. Make a comparison and describe what you have found in this experiment."
   ]
  },
  {
   "cell_type": "markdown",
   "metadata": {
    "id": "VUO04OyX6AYj"
   },
   "source": [
    "**Experiment on shallow MLP** "
   ]
  },
  {
   "cell_type": "code",
   "execution_count": null,
   "metadata": {
    "id": "T1x90ceJ6AYj",
    "outputId": "b0f3a304-87fc-44b3-800c-8d5bb8dd468a"
   },
   "outputs": [
    {
     "name": "stdout",
     "output_type": "stream",
     "text": [
      "number of batches for training: 20\n",
      "epoch 1: valid acc = 0.264, new learning rate = 0.00095\n",
      "epoch 2: valid acc = 0.29, new learning rate = 0.0009025\n",
      "epoch 3: valid acc = 0.282, new learning rate = 0.000857375\n",
      "epoch 4: valid acc = 0.35, new learning rate = 0.0008145062499999999\n",
      "epoch 5: valid acc = 0.332, new learning rate = 0.0007737809374999998\n",
      "epoch 6: valid acc = 0.314, new learning rate = 0.0007350918906249997\n",
      "epoch 7: valid acc = 0.312, new learning rate = 0.0006983372960937497\n",
      "epoch 8: valid acc = 0.302, new learning rate = 0.0006634204312890621\n",
      "epoch 9: valid acc = 0.314, new learning rate = 0.000630249409724609\n",
      "epoch 10: valid acc = 0.328, new learning rate = 0.0005987369392383785\n",
      "epoch 11: valid acc = 0.332, new learning rate = 0.0005688000922764595\n",
      "epoch 12: valid acc = 0.294, new learning rate = 0.0005403600876626365\n",
      "epoch 13: valid acc = 0.294, new learning rate = 0.0005133420832795047\n",
      "epoch 14: valid acc = 0.306, new learning rate = 0.00048767497911552944\n",
      "epoch 15: valid acc = 0.348, new learning rate = 0.00046329123015975297\n",
      "epoch 16: valid acc = 0.362, new learning rate = 0.0004401266686517653\n",
      "epoch 17: valid acc = 0.342, new learning rate = 0.00041812033521917703\n",
      "epoch 18: valid acc = 0.318, new learning rate = 0.00039721431845821814\n",
      "epoch 19: valid acc = 0.362, new learning rate = 0.0003773536025353072\n",
      "epoch 20: valid acc = 0.332, new learning rate = 0.0003584859224085418\n",
      "epoch 21: valid acc = 0.318, new learning rate = 0.0003405616262881147\n",
      "epoch 22: valid acc = 0.336, new learning rate = 0.00032353354497370894\n",
      "epoch 23: valid acc = 0.352, new learning rate = 0.00030735686772502346\n",
      "epoch 24: valid acc = 0.338, new learning rate = 0.00029198902433877225\n",
      "epoch 25: valid acc = 0.356, new learning rate = 0.00027738957312183364\n",
      "epoch 26: valid acc = 0.344, new learning rate = 0.0002635200944657419\n",
      "epoch 27: valid acc = 0.348, new learning rate = 0.0002503440897424548\n",
      "epoch 28: valid acc = 0.336, new learning rate = 0.00023782688525533205\n",
      "epoch 29: valid acc = 0.342, new learning rate = 0.00022593554099256544\n",
      "epoch 30: valid acc = 0.346, new learning rate = 0.00021463876394293716\n",
      "epoch 31: valid acc = 0.344, new learning rate = 0.0002039068257457903\n",
      "epoch 32: valid acc = 0.348, new learning rate = 0.00019371148445850077\n",
      "epoch 33: valid acc = 0.346, new learning rate = 0.00018402591023557573\n",
      "epoch 34: valid acc = 0.346, new learning rate = 0.00017482461472379692\n",
      "epoch 35: valid acc = 0.346, new learning rate = 0.00016608338398760707\n",
      "epoch 36: valid acc = 0.346, new learning rate = 0.0001577792147882267\n",
      "epoch 37: valid acc = 0.348, new learning rate = 0.00014989025404881537\n",
      "epoch 38: valid acc = 0.348, new learning rate = 0.00014239574134637458\n",
      "epoch 39: valid acc = 0.348, new learning rate = 0.00013527595427905584\n",
      "epoch 40: valid acc = 0.348, new learning rate = 0.00012851215656510304\n",
      "epoch 41: valid acc = 0.348, new learning rate = 0.00012208654873684788\n",
      "epoch 42: valid acc = 0.348, new learning rate = 0.00011598222130000548\n",
      "epoch 43: valid acc = 0.348, new learning rate = 0.00011018311023500519\n",
      "epoch 44: valid acc = 0.348, new learning rate = 0.00010467395472325493\n",
      "epoch 45: valid acc = 0.348, new learning rate = 9.944025698709218e-05\n"
     ]
    }
   ],
   "source": [
    "# Build a two-layer network without batch normalization.\n",
    "# Here is a demo.\n",
    "use_bn = False\n",
    "model = MLP(input_dim=3072, hidden_dims=[100], num_classes=10, \n",
    "            weight_scale=1e-3, l2_reg=0.0, use_bn=use_bn)\n",
    "optimizer = AdamOptim(model)\n",
    "# hist_no_dropout contains loss, train acc and valid acc history.\n",
    "hist_shallow_no_bn = optimizer.train(model, X_train, y_train, X_val, y_val, \n",
    "                           num_epoch=50, batch_size=100, learning_rate=1e-3, learning_decay=0.95, \n",
    "                           verbose=False, record_interval = 4)"
   ]
  },
  {
   "cell_type": "code",
   "execution_count": null,
   "metadata": {
    "id": "krWeDURH6AYk",
    "outputId": "3993c5ce-43ed-4a4a-e962-b8b9bbadbd69"
   },
   "outputs": [],
   "source": [
    "# Build a two-layer network with batch normalization. Remember to \"use_bn\".\n",
    "use_bn = True\n",
    "model = MLP(input_dim=3072, hidden_dims=[100], num_classes=10, \n",
    "            weight_scale=1e-3, l2_reg=0.0, use_bn=use_bn)\n",
    "optimizer = AdamOptim(model)\n",
    "# hist_no_dropout contains loss, train acc and valid acc history.\n",
    "hist_shallow_bn = optimizer.train(model, X_train, y_train, X_val, y_val, \n",
    "                           num_epoch=50, batch_size=100, learning_rate=1e-3, learning_decay=0.95, \n",
    "                           verbose=False, record_interval = 4)"
   ]
  },
  {
   "cell_type": "code",
   "execution_count": null,
   "metadata": {
    "id": "4LXhVYt96AYm",
    "outputId": "1a68f786-8039-45fd-eacb-5bf36305918b"
   },
   "outputs": [],
   "source": [
    "# Plot bn and no_bn results together in three plots and make a comparison. \n",
    "title_name = [\"loss\", \"train acc\", \"val acc\"]\n",
    "_, axarr = plt.subplots(1,3, figsize=(15,5))\n",
    "for i in range(3):\n",
    "    axarr[i].plot(hist_shallow_no_bn[i], label=\"no_bn\")\n",
    "    axarr[i].plot(hist_shallow_bn[i], label=\"bn\")\n",
    "    axarr[i].legend(), axarr[i].set_title(title_name[i])\n",
    "plt.show()"
   ]
  },
  {
   "cell_type": "markdown",
   "metadata": {
    "id": "4IO6bu-Z6AYn"
   },
   "source": [
    "**Experiment on deep MLP**"
   ]
  },
  {
   "cell_type": "code",
   "execution_count": null,
   "metadata": {
    "id": "aYy5YfrV6AYn",
    "outputId": "5f1f3675-42b7-4df3-d9cc-653de97cc4c2"
   },
   "outputs": [],
   "source": [
    "# Build a deep 5-layer network without batch normalization. Remember to \"use_bn\".\n",
    "use_bn = False\n",
    "model = MLP(input_dim=3072, hidden_dims=[100, 50, 50, 50], num_classes=10, \n",
    "            weight_scale=1e-3, l2_reg=0.0, use_bn=use_bn)\n",
    "optimizer = AdamOptim(model)\n",
    "# hist_no_dropout contains loss, train acc and valid acc history.\n",
    "hist_deep_no_bn = optimizer.train(model, X_train, y_train, X_val, y_val, \n",
    "                           num_epoch=50, batch_size=100, learning_rate=2e-4, learning_decay=0.95, \n",
    "                           verbose=False, record_interval = 4)"
   ]
  },
  {
   "cell_type": "code",
   "execution_count": null,
   "metadata": {
    "id": "3npwc1Kn6AYo",
    "outputId": "6140d2b9-8dd3-41f6-ee6e-75dd1f18a3e0"
   },
   "outputs": [],
   "source": [
    "# Build a deep 5-layer network with batch normalization. Remember to \"use_bn\".\n",
    "use_bn = True\n",
    "model = MLP(input_dim=3072, hidden_dims=[100, 50, 50, 50], num_classes=10, \n",
    "            weight_scale=1e-3, l2_reg=0.0, use_bn=use_bn)\n",
    "optimizer = AdamOptim(model)\n",
    "# hist_no_dropout contains loss, train acc and valid acc history.\n",
    "hist_deep_bn = optimizer.train(model, X_train, y_train, X_val, y_val, \n",
    "                           num_epoch=50, batch_size=100, learning_rate=2e-4, learning_decay=0.95, \n",
    "                           verbose=False, record_interval = 4)"
   ]
  },
  {
   "cell_type": "code",
   "execution_count": null,
   "metadata": {
    "id": "7pCB5kop6AYp",
    "outputId": "c335c9a0-1e99-47fb-c443-e56f1acea1bb"
   },
   "outputs": [],
   "source": [
    "# Plot bn and no_bn results together in three plots and make a comparison. \n",
    "title_name = [\"loss\", \"train acc\", \"val acc\"]\n",
    "_, axarr = plt.subplots(1,3, figsize=(15,5))\n",
    "for i in range(3):\n",
    "    axarr[i].plot(hist_deep_no_bn[i], label=\"no_bn\")\n",
    "    axarr[i].plot(hist_deep_bn[i], label=\"bn\")\n",
    "    axarr[i].legend(), axarr[i].set_title(title_name[i])\n",
    "plt.show()"
   ]
  },
  {
   "cell_type": "markdown",
   "metadata": {
    "id": "7Lzoi1Vr6AYr"
   },
   "source": [
    "<span style=\"color:red\"><strong>TODO:</strong></span> Describe what you find in this experiment."
   ]
  },
  {
   "cell_type": "markdown",
   "metadata": {
    "id": "_-TSiBY86AYr"
   },
   "source": [
    "Answer: after sevearal experiment, the loss of MLP with batch normalized will always be higher than normal MLP, I think perhaps it is because, I normalize the batch, therefore make them more uniformed and contribute less during training. Therefore, after several epochs, the training accuracy of MLP with batch normalized is obviously lower than normal MLP, but validation accuracy can sometimes be similar to normal MLP. In other words, batch normalized doesn't decrease the performance during testing. But on a deep MLP network, batch normalization doesn't perform so well, it has a poor val acc compared to normal deep MLP."
   ]
  },
  {
   "cell_type": "markdown",
   "metadata": {
    "id": "uF0TW75z6AYr"
   },
   "source": [
    "## Part 3: Dropout + Batch Normalization"
   ]
  },
  {
   "cell_type": "code",
   "execution_count": null,
   "metadata": {
    "id": "D5OJKDoa6AYr",
    "outputId": "7e2d6cbe-0d9e-41b2-c08a-43dcadb11158"
   },
   "outputs": [],
   "source": [
    "# Create a deep network with both dropout and batch normalization.\n",
    "dropout_config = {\"enabled\":True, \"keep_prob\": 0.7}\n",
    "use_bn = True\n",
    "model = MLP(input_dim=3072, hidden_dims=[100, 50], num_classes=10, \n",
    "            weight_scale=1e-3, l2_reg=0.0, dropout_config=dropout_config, use_bn=use_bn)\n",
    "optimizer = AdamOptim(model)\n",
    "# hist_no_dropout contains loss, train acc and valid acc history.\n",
    "hist_deep_bn = optimizer.train(model, X_train, y_train, X_val, y_val, \n",
    "                           num_epoch=50, batch_size=200, learning_rate=1e-3, learning_decay=1.0, \n",
    "                           verbose=False, record_interval = 4)"
   ]
  },
  {
   "cell_type": "markdown",
   "metadata": {
    "id": "wvvTC85-6AYt"
   },
   "source": [
    "## Reference\n",
    "* Weight Normalization: A Simple Reparameterization to Accelerate Training of Deep Neural Networks https://arxiv.org/abs/1602.07868\n",
    "* Highway netowrk https://arxiv.org/pdf/1505.00387.pdf"
   ]
  },
  {
   "cell_type": "code",
   "execution_count": null,
   "metadata": {},
   "outputs": [],
   "source": []
  }
 ],
 "metadata": {
  "colab": {
   "name": "task2-regularization.ipynb",
   "provenance": []
  },
  "kernelspec": {
   "display_name": "Python 3",
   "language": "python",
   "name": "python3"
  },
  "language_info": {
   "codemirror_mode": {
    "name": "ipython",
    "version": 3
   },
   "file_extension": ".py",
   "mimetype": "text/x-python",
   "name": "python",
   "nbconvert_exporter": "python",
   "pygments_lexer": "ipython3",
   "version": "3.7.4"
  }
 },
 "nbformat": 4,
 "nbformat_minor": 1
}
